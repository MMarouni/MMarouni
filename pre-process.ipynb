{
 "cells": [
  {
   "cell_type": "code",
   "execution_count": 7,
   "metadata": {},
   "outputs": [],
   "source": [
    "import pandas as pd \n",
    "import random"
   ]
  },
  {
   "cell_type": "code",
   "execution_count": 8,
   "metadata": {},
   "outputs": [],
   "source": [
    "df=pd.read_excel('num-score.xlsx')"
   ]
  },
  {
   "cell_type": "code",
   "execution_count": 9,
   "metadata": {},
   "outputs": [
    {
     "data": {
      "text/html": [
       "<div>\n",
       "<style scoped>\n",
       "    .dataframe tbody tr th:only-of-type {\n",
       "        vertical-align: middle;\n",
       "    }\n",
       "\n",
       "    .dataframe tbody tr th {\n",
       "        vertical-align: top;\n",
       "    }\n",
       "\n",
       "    .dataframe thead th {\n",
       "        text-align: right;\n",
       "    }\n",
       "</style>\n",
       "<table border=\"1\" class=\"dataframe\">\n",
       "  <thead>\n",
       "    <tr style=\"text-align: right;\">\n",
       "      <th></th>\n",
       "      <th>Domains</th>\n",
       "      <th>Industry</th>\n",
       "      <th>Event Count</th>\n",
       "      <th>Discover - Overall Score</th>\n",
       "    </tr>\n",
       "  </thead>\n",
       "  <tbody>\n",
       "    <tr>\n",
       "      <th>0</th>\n",
       "      <td>nl.abnamro.com</td>\n",
       "      <td>Banking/Accounting/Financial</td>\n",
       "      <td>0</td>\n",
       "      <td>Good</td>\n",
       "    </tr>\n",
       "    <tr>\n",
       "      <th>1</th>\n",
       "      <td>aegon.nl</td>\n",
       "      <td>Banking/Accounting/Financial</td>\n",
       "      <td>0</td>\n",
       "      <td>Good</td>\n",
       "    </tr>\n",
       "    <tr>\n",
       "      <th>2</th>\n",
       "      <td>arcelormittal.com</td>\n",
       "      <td>Manufacturing</td>\n",
       "      <td>5</td>\n",
       "      <td>Excellent</td>\n",
       "    </tr>\n",
       "    <tr>\n",
       "      <th>3</th>\n",
       "      <td>bdl.lu</td>\n",
       "      <td>Banking/Accounting/Financial</td>\n",
       "      <td>0</td>\n",
       "      <td>Good</td>\n",
       "    </tr>\n",
       "    <tr>\n",
       "      <th>4</th>\n",
       "      <td>skf.com</td>\n",
       "      <td>Manufacturing</td>\n",
       "      <td>5</td>\n",
       "      <td>Booster activated</td>\n",
       "    </tr>\n",
       "  </tbody>\n",
       "</table>\n",
       "</div>"
      ],
      "text/plain": [
       "             Domains                      Industry  Event Count  \\\n",
       "0     nl.abnamro.com  Banking/Accounting/Financial            0   \n",
       "1           aegon.nl  Banking/Accounting/Financial            0   \n",
       "2  arcelormittal.com                 Manufacturing            5   \n",
       "3             bdl.lu  Banking/Accounting/Financial            0   \n",
       "4            skf.com                 Manufacturing            5   \n",
       "\n",
       "  Discover - Overall Score  \n",
       "0                     Good  \n",
       "1                     Good  \n",
       "2                Excellent  \n",
       "3                     Good  \n",
       "4        Booster activated  "
      ]
     },
     "execution_count": 9,
     "metadata": {},
     "output_type": "execute_result"
    }
   ],
   "source": [
    "df.head()"
   ]
  },
  {
   "cell_type": "code",
   "execution_count": 17,
   "metadata": {},
   "outputs": [],
   "source": [
    "def conditions(df):\n",
    "    if (df['Event Count'] == 0) and (df['Discover - Overall Score'] == 'Good'):\n",
    "        return random.randint(30, 40)\n",
    "    elif (df['Event Count'] >= 1) and (df['Event Count'] <= 3) and (df['Discover - Overall Score'] == 'Good'):\n",
    "        return random.randint(30, 55)\n",
    "    elif (df['Event Count'] > 4) and (df['Discover - Overall Score'] == 'Good'):\n",
    "        return random.randint(60, 70)\n",
    "    elif (df['Event Count'] == 0) and (df['Discover - Overall Score'] == 'Excellent'):\n",
    "        return random.randint(50, 60)\n",
    "    elif (df['Event Count'] >= 1) and (df['Event Count'] <= 3) and (df['Discover - Overall Score'] == 'Excellent'):\n",
    "        return random.randint(60, 85)\n",
    "    elif (df['Event Count'] > 4) and (df['Discover - Overall Score'] == 'Excellent'):\n",
    "        return random.randint(85, 100)\n",
    "    elif (df['Discover - Overall Score'] == 'Booster activated'):\n",
    "        return random.randint(100, 130)\n",
    "\n",
    "\n",
    "df['Numerical Score']=df.apply(conditions, axis=1)\n",
    "    "
   ]
  },
  {
   "cell_type": "code",
   "execution_count": 18,
   "metadata": {},
   "outputs": [],
   "source": [
    "df.to_csv('num-score-f.csv')"
   ]
  },
  {
   "cell_type": "code",
   "execution_count": null,
   "metadata": {},
   "outputs": [],
   "source": []
  }
 ],
 "metadata": {
  "kernelspec": {
   "display_name": "Python 3",
   "language": "python",
   "name": "python3"
  },
  "language_info": {
   "codemirror_mode": {
    "name": "ipython",
    "version": 3
   },
   "file_extension": ".py",
   "mimetype": "text/x-python",
   "name": "python",
   "nbconvert_exporter": "python",
   "pygments_lexer": "ipython3",
   "version": "3.10.7"
  },
  "orig_nbformat": 4,
  "vscode": {
   "interpreter": {
    "hash": "1be1306fdd989197d728a19cf4565dffdee84a9a1c00cef5d18bbce4f6ada5c7"
   }
  }
 },
 "nbformat": 4,
 "nbformat_minor": 2
}
